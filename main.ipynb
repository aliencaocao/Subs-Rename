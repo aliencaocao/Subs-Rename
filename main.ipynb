{
 "cells": [
  {
   "cell_type": "code",
   "execution_count": 1,
   "metadata": {
    "collapsed": true,
    "pycharm": {
     "name": "#%%\n"
    }
   },
   "outputs": [
    {
     "name": "stdout",
     "output_type": "stream",
     "text": [
      "Running on Python 3.8.10 (tags/v3.8.10:3d8993a, May  3 2021, 11:48:03) [MSC v.1928 64 bit (AMD64)]\n",
      "Dir changed to D:\\视频\\刀剑神域S4\n",
      "Scanning files...\n",
      "Found 37 files, including 25 mkv (Matroska) video files and 12 ass (Advanced SubStation Alpha) subtitle files.\n",
      "INFO: Episode number position set as 0.\n",
      "Found 12 episodes of subtitle files: [AJZ&FreeSub] Sword Art Online - Alicization - War of Underworld - 02 (HEVC-10Bit-2160P AAC).sc.ass, [AJZ&FreeSub] Sword Art Online - Alicization - War of Underworld - 03 (HEVC-10Bit-2160P AAC).sc.ass, [AJZ&FreeSub] Sword Art Online - Alicization - War of Underworld - 04 (HEVC-10Bit-2160P AAC).sc.ass, [AJZ&FreeSub] Sword Art Online - Alicization - War of Underworld - 05 (HEVC-10Bit-2160P AAC).sc.ass, [AJZ&FreeSub] Sword Art Online - Alicization - War of Underworld - 06 (HEVC-10Bit-2160P AAC).sc.ass, [AJZ&FreeSub] Sword Art Online - Alicization - War of Underworld - 07 (HEVC-10Bit-2160P AAC).sc.ass, [AJZ&FreeSub] Sword Art Online - Alicization - War of Underworld - 08 (HEVC-10Bit-2160P AAC).sc.ass, [AJZ&FreeSub] Sword Art Online - Alicization - War of Underworld - 09 (HEVC-10Bit-2160P AAC).sc.ass, [AJZ&FreeSub] Sword Art Online - Alicization - War of Underworld - 10 (HEVC-10Bit-2160P AAC).sc.ass, [AJZ&FreeSub] Sword Art Online - Alicization - War of Underworld - 11 (HEVC-10Bit-2160P AAC).sc.ass, [AJZ&FreeSub] Sword Art Online - Alicization - War of Underworld - 12 (HEVC-10Bit-2160P AAC).sc.ass, [VCB-Studio] Sword Art Online Alicization War of Underworld [01][Ma10p_1080p][x265_flac_aac].ass\n",
      "Warning: number of subtitle file episodes does not match with number of video file episodes!\n",
      "Renamed [AJZ&FreeSub] Sword Art Online - Alicization - War of Underworld - 02 (HEVC-10Bit-2160P AAC).sc.ass -> [VCB-Studio] Sword Art Online Alicization War of Underworld [02][Ma10p_1080p][x265_flac].ass\n",
      "Renamed [AJZ&FreeSub] Sword Art Online - Alicization - War of Underworld - 03 (HEVC-10Bit-2160P AAC).sc.ass -> [VCB-Studio] Sword Art Online Alicization War of Underworld [03][Ma10p_1080p][x265_flac].ass\n",
      "Renamed [AJZ&FreeSub] Sword Art Online - Alicization - War of Underworld - 04 (HEVC-10Bit-2160P AAC).sc.ass -> [VCB-Studio] Sword Art Online Alicization War of Underworld [04][Ma10p_1080p][x265_flac].ass\n",
      "Renamed [AJZ&FreeSub] Sword Art Online - Alicization - War of Underworld - 05 (HEVC-10Bit-2160P AAC).sc.ass -> [VCB-Studio] Sword Art Online Alicization War of Underworld [05][Ma10p_1080p][x265_flac_aac].ass\n",
      "Renamed [AJZ&FreeSub] Sword Art Online - Alicization - War of Underworld - 06 (HEVC-10Bit-2160P AAC).sc.ass -> [VCB-Studio] Sword Art Online Alicization War of Underworld [06][Ma10p_1080p][x265_flac].ass\n",
      "Renamed [AJZ&FreeSub] Sword Art Online - Alicization - War of Underworld - 07 (HEVC-10Bit-2160P AAC).sc.ass -> [VCB-Studio] Sword Art Online Alicization War of Underworld [07][Ma10p_1080p][x265_flac].ass\n",
      "Renamed [AJZ&FreeSub] Sword Art Online - Alicization - War of Underworld - 08 (HEVC-10Bit-2160P AAC).sc.ass -> [VCB-Studio] Sword Art Online Alicization War of Underworld [08][Ma10p_1080p][x265_flac_aac].ass\n",
      "Renamed [AJZ&FreeSub] Sword Art Online - Alicization - War of Underworld - 09 (HEVC-10Bit-2160P AAC).sc.ass -> [VCB-Studio] Sword Art Online Alicization War of Underworld [09][Ma10p_1080p][x265_flac].ass\n",
      "Renamed [AJZ&FreeSub] Sword Art Online - Alicization - War of Underworld - 10 (HEVC-10Bit-2160P AAC).sc.ass -> [VCB-Studio] Sword Art Online Alicization War of Underworld [10][Ma10p_1080p][x265_flac].ass\n",
      "Renamed [AJZ&FreeSub] Sword Art Online - Alicization - War of Underworld - 11 (HEVC-10Bit-2160P AAC).sc.ass -> [VCB-Studio] Sword Art Online Alicization War of Underworld [11][Ma10p_1080p][x265_flac].ass\n",
      "Renamed [AJZ&FreeSub] Sword Art Online - Alicization - War of Underworld - 12 (HEVC-10Bit-2160P AAC).sc.ass -> [VCB-Studio] Sword Art Online Alicization War of Underworld [12][Ma10p_1080p][x265_flac_aac].ass\n",
      "Renamed [VCB-Studio] Sword Art Online Alicization War of Underworld [01][Ma10p_1080p][x265_flac_aac].ass -> [VCB-Studio] Sword Art Online Alicization War of Underworld [01][Ma10p_1080p][x265_flac_aac].ass\n",
      "12 renamed successfully!\n"
     ]
    }
   ],
   "source": [
    "import os, sys, re\n",
    "print('Automatic Subtitle File Rename Script by Billy Cao')\n",
    "print(f'Running on Python {sys.version}')\n",
    "\n",
    "targetDir = input('Enter target dir: ')\n",
    "while not os.path.isdir(targetDir):\n",
    "    if input('Dir does not exist! Would you like to try again? (Y/N)').upper() == 'N':\n",
    "        sys.exit()\n",
    "    targetDir = input('Enter target dir: ')\n",
    "os.chdir(targetDir)\n",
    "print(f'Dir changed to {os.getcwd()}\\nScanning files...')\n",
    "\n",
    "VidFormats = {'mkv': 'Matroska',\n",
    "              'mp4': 'MPEG-4 Part 14',\n",
    "              'mov': 'QuickTime Movie'}\n",
    "SubFormats = {'srt': 'SubRip',\n",
    "              'ass': 'Advanced SubStation Alpha',\n",
    "              'ssa': 'SubStation Alpha',\n",
    "              'sub': 'DirectVobSub',\n",
    "              'vtt': 'WebVTT'}\n",
    "\n",
    "files = os.listdir()\n",
    "videoFiles = [f for f in files if f.split('.')[-1].lower() in VidFormats]\n",
    "subFiles = [f for f in files if f.split('.')[-1].lower() in SubFormats]\n",
    "VideoFileNames = [f.split('.')[0] for f in videoFiles]\n",
    "SubFileNames = [f.split('.')[0] for f in subFiles]\n",
    "videoFileFormat = videoFiles[0].split('.')[-1]\n",
    "subFileFormat = subFiles[0].split('.')[-1]\n",
    "\n",
    "if not files:\n",
    "    print('ERROR: no file found!')\n",
    "elif not videoFiles:\n",
    "    print('ERROR: no video file found!')\n",
    "elif not subFiles:\n",
    "    print('ERROR: no subtitle file found!')\n",
    "print(f'Found {len(files)} files: {len(videoFiles)} {videoFileFormat} ({VidFormats[videoFileFormat]}) video files and {len(subFiles)} {subFileFormat} ({SubFormats[subFileFormat]}) subtitle files.')\n",
    "\n",
    "ivid = int(input('Enter the position of episode number in VIDEO file name (E.g. first number in file name is the episode -> 0, 2nd -> 1 etc.): '))\n",
    "isub = int(input('Enter the position of episode number in SUBTITLE file name (E.g. first number in file name is the episode -> 0, 2nd -> 1 etc.): '))\n",
    "\n",
    "vid_eps = dict([(re.findall(r\"\\d+\", f)[ivid], f) for f in VideoFileNames])\n",
    "sub_eps = dict([(f, re.findall(r\"\\d+\", f)[isub]) for f in subFiles])\n",
    "eps = sorted(sub_eps.values())\n",
    "print(f'Found {len(eps)} episodes of subtitle files: {\", \".join(eps)}')\n",
    "\n",
    "if len(eps) != len(set(eps)):\n",
    "    print('Warning: there are duplicated episodes detected!')\n",
    "if len(eps) == len(subFiles) and len(eps) != len(videoFiles):\n",
    "    print('Warning: number of subtitle file episodes does not match with number of video file episodes!')\n",
    "elif len(eps) != len(subFiles):\n",
    "    print('Warning: number of subtitle episodes found does not match with number of subtitle files!')\n",
    "\n",
    "if input('Start renaming? (Y/N): ').upper() == 'Y':\n",
    "    for f in subFiles:\n",
    "        new_name = vid_eps[sub_eps[f]] + '.' + subFileFormat\n",
    "        os.rename(f, new_name)\n",
    "        print(f'Renamed {f} -> {new_name}')\n",
    "    else:\n",
    "        print(f'{len(subFiles)} renamed successfully!')\n",
    "        # input(\"Press enter to exit\")  # to keep console window open\n",
    "else:\n",
    "    print('Operation cancelled.')\n",
    "    sys.exit()"
   ]
  }
 ],
 "metadata": {
  "kernelspec": {
   "display_name": "Python 3",
   "language": "python",
   "name": "python3"
  },
  "language_info": {
   "codemirror_mode": {
    "name": "ipython",
    "version": 2
   },
   "file_extension": ".py",
   "mimetype": "text/x-python",
   "name": "python",
   "nbconvert_exporter": "python",
   "pygments_lexer": "ipython2",
   "version": "2.7.6"
  }
 },
 "nbformat": 4,
 "nbformat_minor": 0
}